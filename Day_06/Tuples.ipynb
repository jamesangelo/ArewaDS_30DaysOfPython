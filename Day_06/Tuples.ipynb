{
  "nbformat": 4,
  "nbformat_minor": 0,
  "metadata": {
    "colab": {
      "provenance": []
    },
    "kernelspec": {
      "name": "python3",
      "display_name": "Python 3"
    },
    "language_info": {
      "name": "python"
    }
  },
  "cells": [
    {
      "cell_type": "code",
      "execution_count": null,
      "metadata": {
        "id": "Z-iknNceAWfo"
      },
      "outputs": [],
      "source": [
        "# Tuple Exercises\n",
        "\n",
        "# Level 1"
      ]
    },
    {
      "cell_type": "code",
      "source": [
        "#1.\n",
        "empty_tuple = tuple()\n",
        "\n",
        "#2.\n",
        "brothers = ('Michael', 'Wellington', 'Zaminathan')\n",
        "sisters = ('Yetunde', 'Ronke', 'Olivia')\n",
        "\n",
        "#3.\n",
        "siblings = brothers + sisters\n",
        "\n",
        "#4.\n",
        "print('My siblings are:', len(siblings))\n",
        "\n",
        "#5.\n",
        "family_members = siblings + ('James snr.', 'Folashade')\n",
        "print('Family members: ', family_members)\n"
      ],
      "metadata": {
        "colab": {
          "base_uri": "https://localhost:8080/"
        },
        "id": "UUPNexxnBBSu",
        "outputId": "faf63ed9-b46f-4466-d752-cabd113a1a8c"
      },
      "execution_count": 1,
      "outputs": [
        {
          "output_type": "stream",
          "name": "stdout",
          "text": [
            "My siblings are: 6\n",
            "Family members:  ('Michael', 'Wellington', 'Zaminathan', 'Yetunde', 'Ronke', 'Olivia', 'James snr.', 'Folashade')\n"
          ]
        }
      ]
    },
    {
      "cell_type": "markdown",
      "source": [
        "#Exercise: Level 2"
      ],
      "metadata": {
        "id": "kxdGJx-SDXn_"
      }
    },
    {
      "cell_type": "code",
      "source": [
        "#1.\n",
        "brother_01, brother_02, brother_03, sister_01, sister_02, sister_03, *parents = family_members\n",
        "print(parents)\n",
        "\n",
        "#2.\n",
        "fruits = ('mango', 'apples', 'pineapple')\n",
        "vegetables = ('carrot', 'brocolli', 'lettuce')\n",
        "animal_products = ('milk', 'honey', 'whale oil')\n",
        "\n",
        "#3.\n",
        "food_stuff_tp = fruits + vegetables + animal_products\n",
        "\n",
        "#4.\n",
        "print(food_stuff_tp[(len(food_stuff_tp)//2)])\n",
        "\n",
        "#5.\n",
        "print(food_stuff_tp[:3])\n",
        "\n",
        "#6.\n",
        "del food_stuff_tp\n",
        "\n",
        "#7.\n",
        "nordic_countries = ('Denmark', 'Finland','Iceland', 'Norway', 'Sweden')\n",
        "\n",
        "print('Is Estonia present in country:', 'Estonia' in nordic_countries)\n",
        "\n",
        "print('Is Estonia present in country:', 'Iceland' in nordic_countries)\n",
        "\n"
      ],
      "metadata": {
        "colab": {
          "base_uri": "https://localhost:8080/"
        },
        "id": "kh20RP4tDV7h",
        "outputId": "786df49b-821b-4423-ccd5-dc33e0b8a39b"
      },
      "execution_count": 9,
      "outputs": [
        {
          "output_type": "stream",
          "name": "stdout",
          "text": [
            "['James snr.', 'Folashade']\n",
            "brocolli\n",
            "('mango', 'apples', 'pineapple')\n",
            "Is Estonia present in country: False\n",
            "Is Estonia present in country: True\n"
          ]
        }
      ]
    }
  ]
}