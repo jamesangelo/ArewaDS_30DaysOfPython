{
  "nbformat": 4,
  "nbformat_minor": 0,
  "metadata": {
    "colab": {
      "provenance": []
    },
    "kernelspec": {
      "name": "python3",
      "display_name": "Python 3"
    },
    "language_info": {
      "name": "python"
    }
  },
  "cells": [
    {
      "cell_type": "markdown",
      "source": [
        "## Question 1. Check Python Version"
      ],
      "metadata": {
        "id": "hnDTWylCyr3T"
      }
    },
    {
      "cell_type": "code",
      "source": [
        "!python --version"
      ],
      "metadata": {
        "colab": {
          "base_uri": "https://localhost:8080/"
        },
        "id": "rvyvnaGPyrEU",
        "outputId": "0cf9b92d-118e-44af-d741-f2e0cc3a74e7"
      },
      "execution_count": 4,
      "outputs": [
        {
          "output_type": "stream",
          "name": "stdout",
          "text": [
            "Python 3.10.12\n"
          ]
        }
      ]
    },
    {
      "cell_type": "markdown",
      "source": [
        "## Question 2. Perform Operation Using the Operands 2 and 4"
      ],
      "metadata": {
        "id": "Crbl5YHszrzj"
      }
    },
    {
      "cell_type": "code",
      "source": [
        "print(3 + 2)   # addition(+)"
      ],
      "metadata": {
        "colab": {
          "base_uri": "https://localhost:8080/"
        },
        "id": "jqobtN88yLcq",
        "outputId": "835ba02e-c522-43ea-f894-cc2297085a6a"
      },
      "execution_count": 5,
      "outputs": [
        {
          "output_type": "stream",
          "name": "stdout",
          "text": [
            "5\n"
          ]
        }
      ]
    },
    {
      "cell_type": "code",
      "source": [
        "print(3 - 2)   # subtraction(-)"
      ],
      "metadata": {
        "colab": {
          "base_uri": "https://localhost:8080/"
        },
        "id": "Nhsqa5HeyPK7",
        "outputId": "8a8e732a-09e4-4bd3-fa53-d42422061700"
      },
      "execution_count": 6,
      "outputs": [
        {
          "output_type": "stream",
          "name": "stdout",
          "text": [
            "1\n"
          ]
        }
      ]
    },
    {
      "cell_type": "code",
      "source": [
        "print(3 * 2)   # multiplication(*)"
      ],
      "metadata": {
        "colab": {
          "base_uri": "https://localhost:8080/"
        },
        "id": "4PummtYNyPHW",
        "outputId": "6e70a685-900e-453a-9c20-73c694746407"
      },
      "execution_count": 7,
      "outputs": [
        {
          "output_type": "stream",
          "name": "stdout",
          "text": [
            "6\n"
          ]
        }
      ]
    },
    {
      "cell_type": "code",
      "source": [
        "print(3 / 2)   # division(/)"
      ],
      "metadata": {
        "colab": {
          "base_uri": "https://localhost:8080/"
        },
        "id": "FbnjMAZCyPEb",
        "outputId": "e10032f5-77b9-446a-b9cc-9c40c7194c74"
      },
      "execution_count": 8,
      "outputs": [
        {
          "output_type": "stream",
          "name": "stdout",
          "text": [
            "1.5\n"
          ]
        }
      ]
    },
    {
      "cell_type": "code",
      "source": [
        "print(3 ** 2)  # exponential(**)"
      ],
      "metadata": {
        "colab": {
          "base_uri": "https://localhost:8080/"
        },
        "id": "CUGigdc4yO5_",
        "outputId": "a2e0738c-fc5b-4bb7-da50-0830bacd02c8"
      },
      "execution_count": 9,
      "outputs": [
        {
          "output_type": "stream",
          "name": "stdout",
          "text": [
            "9\n"
          ]
        }
      ]
    },
    {
      "cell_type": "code",
      "source": [
        "print(3 % 2)   # modulus(%)"
      ],
      "metadata": {
        "colab": {
          "base_uri": "https://localhost:8080/"
        },
        "id": "0M9gDDBDyOpE",
        "outputId": "b86f7b52-3749-49ee-dba9-d4091c87ecd5"
      },
      "execution_count": 10,
      "outputs": [
        {
          "output_type": "stream",
          "name": "stdout",
          "text": [
            "1\n"
          ]
        }
      ]
    },
    {
      "cell_type": "code",
      "source": [
        "print(3 // 2)  # Floor division operator(//)"
      ],
      "metadata": {
        "colab": {
          "base_uri": "https://localhost:8080/"
        },
        "id": "TJGKBrHdyW-N",
        "outputId": "e4bad1d2-8b51-4862-d3de-e2902eee86b4"
      },
      "execution_count": 11,
      "outputs": [
        {
          "output_type": "stream",
          "name": "stdout",
          "text": [
            "1\n"
          ]
        }
      ]
    },
    {
      "cell_type": "markdown",
      "source": [
        "## Question 3. Write the Following Strings"
      ],
      "metadata": {
        "id": "53uglOVSychC"
      }
    },
    {
      "cell_type": "code",
      "source": [
        "print('James') #My Name"
      ],
      "metadata": {
        "colab": {
          "base_uri": "https://localhost:8080/"
        },
        "id": "rrsCVLv_yW6t",
        "outputId": "e9170b2a-1eb8-403b-878b-33cea2aecdee"
      },
      "execution_count": 15,
      "outputs": [
        {
          "output_type": "stream",
          "name": "stdout",
          "text": [
            "James\n"
          ]
        }
      ]
    },
    {
      "cell_type": "code",
      "source": [
        "print('Williams') # Family Name"
      ],
      "metadata": {
        "colab": {
          "base_uri": "https://localhost:8080/"
        },
        "id": "liYifKB5yW3l",
        "outputId": "c619f532-3c82-4557-ba15-e628457ef211"
      },
      "execution_count": 12,
      "outputs": [
        {
          "output_type": "stream",
          "name": "stdout",
          "text": [
            "Williams\n"
          ]
        }
      ]
    },
    {
      "cell_type": "code",
      "source": [
        "print('Nigeria') #Country"
      ],
      "metadata": {
        "colab": {
          "base_uri": "https://localhost:8080/"
        },
        "id": "p86EbvZEyWr3",
        "outputId": "6ba28b80-436d-4627-cf4a-400ee3829426"
      },
      "execution_count": 13,
      "outputs": [
        {
          "output_type": "stream",
          "name": "stdout",
          "text": [
            "Nigeria\n"
          ]
        }
      ]
    },
    {
      "cell_type": "code",
      "source": [
        "print('I am engoying 30 days of Python')"
      ],
      "metadata": {
        "colab": {
          "base_uri": "https://localhost:8080/"
        },
        "id": "rP3Hh7Sd1UaB",
        "outputId": "b3c44ab3-3a89-4653-e67b-137979d8829f"
      },
      "execution_count": 14,
      "outputs": [
        {
          "output_type": "stream",
          "name": "stdout",
          "text": [
            "I am engoying 30 days of Python\n"
          ]
        }
      ]
    },
    {
      "cell_type": "markdown",
      "source": [
        "## Question 4. Check Data Types"
      ],
      "metadata": {
        "id": "enudAIIM1b20"
      }
    },
    {
      "cell_type": "code",
      "source": [
        "print(type(10))                  # Int"
      ],
      "metadata": {
        "colab": {
          "base_uri": "https://localhost:8080/"
        },
        "id": "G8p_anrd1qUc",
        "outputId": "b91af072-884b-419f-d335-ebd7adbb5c25"
      },
      "execution_count": 16,
      "outputs": [
        {
          "output_type": "stream",
          "name": "stdout",
          "text": [
            "<class 'int'>\n"
          ]
        }
      ]
    },
    {
      "cell_type": "code",
      "source": [
        "print(type(9.8))                # Float"
      ],
      "metadata": {
        "id": "4SouNKKx1qRB"
      },
      "execution_count": null,
      "outputs": []
    },
    {
      "cell_type": "code",
      "source": [
        "print(type(3.14))             # Float"
      ],
      "metadata": {
        "colab": {
          "base_uri": "https://localhost:8080/"
        },
        "id": "ELn63vL11qOB",
        "outputId": "2ec4f8d2-008d-42b0-d4d3-995ccfac6c7d"
      },
      "execution_count": 17,
      "outputs": [
        {
          "output_type": "stream",
          "name": "stdout",
          "text": [
            "<class 'float'>\n"
          ]
        }
      ]
    },
    {
      "cell_type": "code",
      "source": [
        "print(type(4-4j))             #Complex number"
      ],
      "metadata": {
        "colab": {
          "base_uri": "https://localhost:8080/"
        },
        "id": "7_EMDl781qKc",
        "outputId": "d52c5b42-e0ed-4f55-cb7e-7445834d14a1"
      },
      "execution_count": 18,
      "outputs": [
        {
          "output_type": "stream",
          "name": "stdout",
          "text": [
            "<class 'complex'>\n"
          ]
        }
      ]
    },
    {
      "cell_type": "code",
      "source": [
        "print(type(['Asbeneh', 'Python', 'Finland']))     #List"
      ],
      "metadata": {
        "colab": {
          "base_uri": "https://localhost:8080/"
        },
        "id": "eG84zXK22Ftm",
        "outputId": "9051f9da-74f8-4086-b346-4b3963303b9f"
      },
      "execution_count": 20,
      "outputs": [
        {
          "output_type": "stream",
          "name": "stdout",
          "text": [
            "<class 'list'>\n"
          ]
        }
      ]
    },
    {
      "cell_type": "code",
      "source": [
        "print(type('James'))        #Str"
      ],
      "metadata": {
        "colab": {
          "base_uri": "https://localhost:8080/"
        },
        "id": "KEPXZhOO1qHo",
        "outputId": "6285f9b1-f6f5-4b9c-e9af-d3079bc234b5"
      },
      "execution_count": 19,
      "outputs": [
        {
          "output_type": "stream",
          "name": "stdout",
          "text": [
            "<class 'str'>\n"
          ]
        }
      ]
    },
    {
      "cell_type": "code",
      "source": [
        "print(type('Williams'))     #Str"
      ],
      "metadata": {
        "id": "kHFWS-ia1psd"
      },
      "execution_count": null,
      "outputs": []
    },
    {
      "cell_type": "code",
      "source": [
        "print(type('Nigeria'))      #Str"
      ],
      "metadata": {
        "id": "8-G4s9n2x_jx"
      },
      "execution_count": null,
      "outputs": []
    },
    {
      "cell_type": "markdown",
      "source": [
        "## Question 3. Write Different Data Type Data Types"
      ],
      "metadata": {
        "id": "uDPquc9j8agq"
      }
    },
    {
      "cell_type": "code",
      "source": [
        "print(247) #integer\n",
        "print(2.47) #float\n",
        "print(2 + 3j) #complex\n",
        "print('This is Python Program') #String\n",
        "print(True) #Boolean\n",
        "print([247, 2.47, 2+3j, 'This is Python program', True]) #List\n",
        "print((247, 2.47, 2+3j, 'This is Python program', True)) #tuple\n",
        "print({'abc', 247, 2.47, 'This is Python program'}) #Set\n",
        "print({'a':'abc', 'c':247, 'd':2.47, 'e':'This is Python program'}) #Dictionary\n"
      ],
      "metadata": {
        "colab": {
          "base_uri": "https://localhost:8080/"
        },
        "id": "VyaoMsg-9HdF",
        "outputId": "ade5233a-1a4a-4f94-8221-4114488a3231"
      },
      "execution_count": 22,
      "outputs": [
        {
          "output_type": "stream",
          "name": "stdout",
          "text": [
            "247\n",
            "2.47\n",
            "(2+3j)\n",
            "This is Python Program\n",
            "True\n",
            "[247, 2.47, (2+3j), 'This is Python program', True]\n",
            "(247, 2.47, (2+3j), 'This is Python program', True)\n",
            "{'a': 'abc', 'c': 247, 'd': 2.47, 'e': 'This is Python program'}\n",
            "{2.47, 'This is Python program', 'abc', 247}\n"
          ]
        }
      ]
    },
    {
      "cell_type": "markdown",
      "source": [
        "## Question 4. Find the Euclidean Distance."
      ],
      "metadata": {
        "id": "rsTN0tc6APcw"
      }
    },
    {
      "cell_type": "code",
      "source": [
        "# this is using the pythagoras equation to solve the slope distance betwwen two points on a graph\n",
        "\n",
        "changeIn_x = (2,3)\n",
        "changeIn_y = (10,8)\n",
        "Euclid_distance = ((changeIn_y[1] - changeIn_y[0])**2 + (changeIn_x[1] - changeIn_x[0])**2)**0.5\n",
        "round(Euclid_distance, 2)\n",
        "print('Euclid distance : ', round(Euclid_distance, 2))\n"
      ],
      "metadata": {
        "colab": {
          "base_uri": "https://localhost:8080/"
        },
        "id": "U_JnnYlBAYpx",
        "outputId": "712a7c55-970b-4887-b40c-4cea053179aa"
      },
      "execution_count": 25,
      "outputs": [
        {
          "output_type": "stream",
          "name": "stdout",
          "text": [
            "Euclid distance :  2.24\n"
          ]
        }
      ]
    }
  ]
}