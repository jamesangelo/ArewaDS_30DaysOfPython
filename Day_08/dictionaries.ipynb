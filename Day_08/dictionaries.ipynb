{
 "cells": [
  {
   "cell_type": "markdown",
   "metadata": {},
   "source": [
    "# Exercise: Module 6"
   ]
  },
  {
   "cell_type": "code",
   "execution_count": null,
   "metadata": {},
   "outputs": [
    {
     "name": "stdout",
     "output_type": "stream",
     "text": [
      "lenght of the student dict is:  8\n",
      "the value of the skills are ['medicals', 'teaching', 'thinking'] and the datatyoe is:  <class 'list'>\n",
      "dict_keys(['first_name', 'lasst_name', 'gender', 'marital_status', 'skills', 'çountry', 'city', 'address'])\n",
      "dict_values(['Vitali', 'Collins', 'male', 'married', ['medicals', 'teaching', 'thinking', 'learning'], 'German', 'berlin', '27 block leveburg'])\n",
      "dict_items([('first_name', 'Vitali'), ('lasst_name', 'Collins'), ('gender', 'male'), ('marital_status', 'married'), ('skills', ['medicals', 'teaching', 'thinking', 'learning']), ('çountry', 'German'), ('city', 'berlin'), ('address', '27 block leveburg')])\n"
     ]
    }
   ],
   "source": [
    "#1. \n",
    "dog = {}\n",
    "\n",
    "#2.\n",
    "dog['name'] = 'Bingo'\n",
    "dog['breed'] = 'bulldog'\n",
    "dog['legs'] = 4\n",
    "dog['age'] = 3\n",
    "\n",
    "#3.\n",
    "student = {}\n",
    "student['first_name'] = 'Vitali'\n",
    "student['lasst_name'] = 'Collins'\n",
    "student['gender'] = 'male'\n",
    "student['marital_status'] = 'married'\n",
    "student['skills'] = ['medicals', 'teaching', 'thinking']\n",
    "student['çountry'] = 'German'\n",
    "student['city'] = 'berlin'\n",
    "student['address'] = '27 block leveburg'\n",
    "\n",
    "#4.\n",
    "print('lenght of the student dict is: ',len(student))\n",
    "\n",
    "#5.\n",
    "skill = student['skills']\n",
    "print(f'the value of the skills are {skill} and the datatyoe is: ', type(skill))\n",
    "\n",
    "#6.\n",
    "student['skills'].append('learning')\n",
    "\n",
    "#7.\n",
    "print(student.keys())\n",
    "\n",
    "#8.\n",
    "print(student.values())\n",
    "\n",
    "#9.\n",
    "print(student.items())\n",
    "\n",
    "#10.\n",
    "del student['address']\n",
    "\n",
    "#11.\n",
    "del dog"
   ]
  }
 ],
 "metadata": {
  "kernelspec": {
   "display_name": "Python 3",
   "language": "python",
   "name": "python3"
  },
  "language_info": {
   "codemirror_mode": {
    "name": "ipython",
    "version": 3
   },
   "file_extension": ".py",
   "mimetype": "text/x-python",
   "name": "python",
   "nbconvert_exporter": "python",
   "pygments_lexer": "ipython3",
   "version": "3.13.0"
  }
 },
 "nbformat": 4,
 "nbformat_minor": 2
}
