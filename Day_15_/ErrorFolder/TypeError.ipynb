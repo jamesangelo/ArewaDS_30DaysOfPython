{
 "cells": [
  {
   "cell_type": "code",
   "execution_count": null,
   "metadata": {},
   "outputs": [],
   "source": [
    "#syntaxError\n",
    "#NameError\n",
    "#IndexError\n",
    "#ModuleNotFoundError\n",
    "#AttributeError\n",
    "#KeyError\n",
    "#TypeError\n",
    "#importError\n",
    "#ValueError\n",
    "#ZerodivisionError"
   ]
  },
  {
   "cell_type": "code",
   "execution_count": 1,
   "metadata": {},
   "outputs": [
    {
     "ename": "IndentationError",
     "evalue": "expected an indented block after 'try' statement on line 24 (1610851786.py, line 25)",
     "output_type": "error",
     "traceback": [
      "\u001b[1;36m  Cell \u001b[1;32mIn[1], line 25\u001b[1;36m\u001b[0m\n\u001b[1;33m    except ModuleNotFoundError as e:\u001b[0m\n\u001b[1;37m    ^\u001b[0m\n\u001b[1;31mIndentationError\u001b[0m\u001b[1;31m:\u001b[0m expected an indented block after 'try' statement on line 24\n"
     ]
    }
   ],
   "source": [
    "import non_existent_module\n",
    "from math import non_existent_function\n",
    "\n",
    "# SyntaxError\n",
    "try:\n",
    "    eval('x === x')\n",
    "except SyntaxError as e:\n",
    "    print(f\"SyntaxError: {e}\")\n",
    "\n",
    "# NameError\n",
    "try:\n",
    "    print(undefined_variable)\n",
    "except NameError as e:\n",
    "    print(f\"NameError: {e}\")\n",
    "\n",
    "# IndexError\n",
    "try:\n",
    "    lst = [1, 2, 3]\n",
    "    print(lst[5])\n",
    "except IndexError as e:\n",
    "    print(f\"IndexError: {e}\")\n",
    "\n",
    "# ModuleNotFoundError\n",
    "try:\n",
    "except ModuleNotFoundError as e:\n",
    "    print(f\"ModuleNotFoundError: {e}\")\n",
    "\n",
    "# AttributeError\n",
    "try:\n",
    "    x = 10\n",
    "    x.append(5)\n",
    "except AttributeError as e:\n",
    "    print(f\"AttributeError: {e}\")\n",
    "\n",
    "# KeyError\n",
    "try:\n",
    "    d = {'a': 1}\n",
    "    print(d['b'])\n",
    "except KeyError as e:\n",
    "    print(f\"KeyError: {e}\")\n",
    "\n",
    "# TypeError\n",
    "try:\n",
    "    print('2' + 2)\n",
    "except TypeError as e:\n",
    "    print(f\"TypeError: {e}\")\n",
    "\n",
    "# ImportError\n",
    "try:\n",
    "except ImportError as e:\n",
    "    print(f\"ImportError: {e}\")\n",
    "\n",
    "# ValueError\n",
    "try:\n",
    "    int('abc')\n",
    "except ValueError as e:\n",
    "    print(f\"ValueError: {e}\")\n",
    "\n",
    "# ZeroDivisionError\n",
    "try:\n",
    "    print(1 / 0)\n",
    "except ZeroDivisionError as e:\n",
    "    print(f\"ZeroDivisionError: {e}\")"
   ]
  }
 ],
 "metadata": {
  "kernelspec": {
   "display_name": "Python 3",
   "language": "python",
   "name": "python3"
  },
  "language_info": {
   "codemirror_mode": {
    "name": "ipython",
    "version": 3
   },
   "file_extension": ".py",
   "mimetype": "text/x-python",
   "name": "python",
   "nbconvert_exporter": "python",
   "pygments_lexer": "ipython3",
   "version": "3.13.0"
  }
 },
 "nbformat": 4,
 "nbformat_minor": 2
}
