{
 "cells": [
  {
   "cell_type": "code",
   "execution_count": null,
   "metadata": {},
   "outputs": [],
   "source": [
    "\n",
    "afile = open('obama_speech.txt', 'r')\n",
    "abox = afile.readline()\n",
    "print(type(abox))\n",
    "for line in abox:\n",
    "    print(line)\n",
    "\n"
   ]
  },
  {
   "cell_type": "code",
   "execution_count": 23,
   "metadata": {},
   "outputs": [
    {
     "name": "stdout",
     "output_type": "stream",
     "text": [
      "66 13342\n"
     ]
    }
   ],
   "source": [
    "from pathlib import Path\n",
    "\n",
    "filePath = Path('obama_speech.txt')\n",
    "box = filePath.open()\n",
    "x = box.readlines()\n",
    "countl = 0\n",
    "countw = 0\n",
    "for line in x:\n",
    "    countl += 1\n",
    "    for y in line:\n",
    "        countw += 1\n",
    "\n",
    "print(countl, countw)"
   ]
  },
  {
   "cell_type": "code",
   "execution_count": 59,
   "metadata": {},
   "outputs": [],
   "source": [
    "def wordscount(_path):\n",
    "    try:\n",
    "        path = Path(_path)\n",
    "        file = path.open()\n",
    "    except FileNotFoundError:\n",
    "        return print('File is not found in location')\n",
    "    words = file.readlines()\n",
    "    linecount = 0\n",
    "    wordcount = 0\n",
    "    for line in words:\n",
    "        linecount +=1\n",
    "        for word in line:\n",
    "            wordcount +=1\n",
    "    try:\n",
    "        file.close()\n",
    "    except:\n",
    "        print('delay')\n",
    "    return f'number of line in text {linecount} /n number of words in text {wordcount}'\n",
    "\n"
   ]
  },
  {
   "cell_type": "code",
   "execution_count": 64,
   "metadata": {},
   "outputs": [
    {
     "data": {
      "text/plain": [
       "'number of line in text 33 /n number of words in text 7489'"
      ]
     },
     "execution_count": 64,
     "metadata": {},
     "output_type": "execute_result"
    }
   ],
   "source": [
    "\n",
    "wordscount('melina_trump_speech.txt')\n",
    "\n"
   ]
  },
  {
   "cell_type": "code",
   "execution_count": 65,
   "metadata": {},
   "outputs": [
    {
     "data": {
      "text/plain": [
       "'number of line in text 48 /n number of words in text 7276'"
      ]
     },
     "execution_count": 65,
     "metadata": {},
     "output_type": "execute_result"
    }
   ],
   "source": [
    "wordscount('donald_speech.txt')"
   ]
  },
  {
   "cell_type": "markdown",
   "metadata": {},
   "source": [
    "# 2."
   ]
  },
  {
   "cell_type": "code",
   "execution_count": 219,
   "metadata": {},
   "outputs": [],
   "source": [
    "import json\n",
    "     \n",
    "def most_spoken_languages(filename, num=10):\n",
    "    try:\n",
    "        path = Path(filename)\n",
    "        file = path.read_text(encoding='utf-8')\n",
    "    except FileNotFoundError:\n",
    "        return print('File is not found in location')\n",
    "    doc = json.loads(file)\n",
    "    lang = {}\n",
    "    langset = [] \n",
    "    for nation in doc:\n",
    "        for spoke in nation['languages']:\n",
    "                lang[spoke] = lang.get(spoke, 0) + 1\n",
    "    \n",
    "    msl = []\n",
    "    for key, value in lang.items():\n",
    "         langset.append([value,key])\n",
    "    langset.sort(reverse=True)\n",
    "\n",
    "    for i, v in enumerate(langset):\n",
    "        if i <= num or v[0] == lastval:\n",
    "              msl.append(tuple(v))\n",
    "              if i==num:\n",
    "                   lastval = v[0]\n",
    "        else:\n",
    "             continue\n",
    "    language = msl.copy()\n",
    "    return language\n",
    "    "
   ]
  },
  {
   "cell_type": "code",
   "execution_count": null,
   "metadata": {},
   "outputs": [],
   "source": [
    "path = Path('countries_data.json')\n",
    "box = path.read_text(encoding='utf-8')\n",
    "print(box)\n",
    "\n",
    "#help(Path)\n"
   ]
  },
  {
   "cell_type": "code",
   "execution_count": null,
   "metadata": {},
   "outputs": [],
   "source": [
    "print(most_spoken_languages('countries_data.json',10))"
   ]
  },
  {
   "cell_type": "code",
   "execution_count": 223,
   "metadata": {},
   "outputs": [],
   "source": [
    "def most_populated_countries(filename, num=10):\n",
    "    try:\n",
    "        path = Path(filename)\n",
    "        file = path.read_text(encoding='utf-8')\n",
    "    except FileNotFoundError:\n",
    "        return print('File is not found in location')\n",
    "    doc = json.loads(file)\n",
    "    popu =  []\n",
    "    langset = [] \n",
    "    for nation in doc:\n",
    "        x = {}\n",
    "        x['country'] = nation['name']\n",
    "        x['population'] = nation['population']\n",
    "        popu = nation['population']\n",
    "        langset.append(x)\n",
    "\n",
    "    return langset\n",
    "    "
   ]
  },
  {
   "cell_type": "code",
   "execution_count": 225,
   "metadata": {},
   "outputs": [
    {
     "name": "stdout",
     "output_type": "stream",
     "text": [
      "[{'country': 'Afghanistan', 'population': 27657145}, {'country': 'Åland Islands', 'population': 28875}, {'country': 'Albania', 'population': 2886026}, {'country': 'Algeria', 'population': 40400000}, {'country': 'American Samoa', 'population': 57100}, {'country': 'Andorra', 'population': 78014}, {'country': 'Angola', 'population': 25868000}, {'country': 'Anguilla', 'population': 13452}, {'country': 'Antarctica', 'population': 1000}, {'country': 'Antigua and Barbuda', 'population': 86295}, {'country': 'Argentina', 'population': 43590400}, {'country': 'Armenia', 'population': 2994400}, {'country': 'Aruba', 'population': 107394}, {'country': 'Australia', 'population': 24117360}, {'country': 'Austria', 'population': 8725931}, {'country': 'Azerbaijan', 'population': 9730500}, {'country': 'Bahamas', 'population': 378040}, {'country': 'Bahrain', 'population': 1404900}, {'country': 'Bangladesh', 'population': 161006790}, {'country': 'Barbados', 'population': 285000}, {'country': 'Belarus', 'population': 9498700}, {'country': 'Belgium', 'population': 11319511}, {'country': 'Belize', 'population': 370300}, {'country': 'Benin', 'population': 10653654}, {'country': 'Bermuda', 'population': 61954}, {'country': 'Bhutan', 'population': 775620}, {'country': 'Bolivia (Plurinational State of)', 'population': 10985059}, {'country': 'Bonaire, Sint Eustatius and Saba', 'population': 17408}, {'country': 'Bosnia and Herzegovina', 'population': 3531159}, {'country': 'Botswana', 'population': 2141206}, {'country': 'Bouvet Island', 'population': 0}, {'country': 'Brazil', 'population': 206135893}, {'country': 'British Indian Ocean Territory', 'population': 3000}, {'country': 'United States Minor Outlying Islands', 'population': 300}, {'country': 'Virgin Islands (British)', 'population': 28514}, {'country': 'Virgin Islands (U.S.)', 'population': 114743}, {'country': 'Brunei Darussalam', 'population': 411900}, {'country': 'Bulgaria', 'population': 7153784}, {'country': 'Burkina Faso', 'population': 19034397}, {'country': 'Burundi', 'population': 10114505}, {'country': 'Cambodia', 'population': 15626444}, {'country': 'Cameroon', 'population': 22709892}, {'country': 'Canada', 'population': 36155487}, {'country': 'Cabo Verde', 'population': 531239}, {'country': 'Cayman Islands', 'population': 58238}, {'country': 'Central African Republic', 'population': 4998000}, {'country': 'Chad', 'population': 14497000}, {'country': 'Chile', 'population': 18191900}, {'country': 'China', 'population': 1377422166}, {'country': 'Christmas Island', 'population': 2072}, {'country': 'Cocos (Keeling) Islands', 'population': 550}, {'country': 'Colombia', 'population': 48759958}, {'country': 'Comoros', 'population': 806153}, {'country': 'Congo', 'population': 4741000}, {'country': 'Congo (Democratic Republic of the)', 'population': 85026000}, {'country': 'Cook Islands', 'population': 18100}, {'country': 'Costa Rica', 'population': 4890379}, {'country': 'Croatia', 'population': 4190669}, {'country': 'Cuba', 'population': 11239004}, {'country': 'Curaçao', 'population': 154843}, {'country': 'Cyprus', 'population': 847000}, {'country': 'Czech Republic', 'population': 10558524}, {'country': 'Denmark', 'population': 5717014}, {'country': 'Djibouti', 'population': 900000}, {'country': 'Dominica', 'population': 71293}, {'country': 'Dominican Republic', 'population': 10075045}, {'country': 'Ecuador', 'population': 16545799}, {'country': 'Egypt', 'population': 91290000}, {'country': 'El Salvador', 'population': 6520675}, {'country': 'Equatorial Guinea', 'population': 1222442}, {'country': 'Eritrea', 'population': 5352000}, {'country': 'Estonia', 'population': 1315944}, {'country': 'Ethiopia', 'population': 92206005}, {'country': 'Falkland Islands (Malvinas)', 'population': 2563}, {'country': 'Faroe Islands', 'population': 49376}, {'country': 'Fiji', 'population': 867000}, {'country': 'Finland', 'population': 5491817}, {'country': 'France', 'population': 66710000}, {'country': 'French Guiana', 'population': 254541}, {'country': 'French Polynesia', 'population': 271800}, {'country': 'French Southern Territories', 'population': 140}, {'country': 'Gabon', 'population': 1802278}, {'country': 'Gambia', 'population': 1882450}, {'country': 'Georgia', 'population': 3720400}, {'country': 'Germany', 'population': 81770900}, {'country': 'Ghana', 'population': 27670174}, {'country': 'Gibraltar', 'population': 33140}, {'country': 'Greece', 'population': 10858018}, {'country': 'Greenland', 'population': 55847}, {'country': 'Grenada', 'population': 103328}, {'country': 'Guadeloupe', 'population': 400132}, {'country': 'Guam', 'population': 184200}, {'country': 'Guatemala', 'population': 16176133}, {'country': 'Guernsey', 'population': 62999}, {'country': 'Guinea', 'population': 12947000}, {'country': 'Guinea-Bissau', 'population': 1547777}, {'country': 'Guyana', 'population': 746900}, {'country': 'Haiti', 'population': 11078033}, {'country': 'Heard Island and McDonald Islands', 'population': 0}, {'country': 'Holy See', 'population': 451}, {'country': 'Honduras', 'population': 8576532}, {'country': 'Hong Kong', 'population': 7324300}, {'country': 'Hungary', 'population': 9823000}, {'country': 'Iceland', 'population': 334300}, {'country': 'India', 'population': 1295210000}, {'country': 'Indonesia', 'population': 258705000}, {'country': \"Côte d'Ivoire\", 'population': 22671331}, {'country': 'Iran (Islamic Republic of)', 'population': 79369900}, {'country': 'Iraq', 'population': 37883543}, {'country': 'Ireland', 'population': 6378000}, {'country': 'Isle of Man', 'population': 84497}, {'country': 'Israel', 'population': 8527400}, {'country': 'Italy', 'population': 60665551}, {'country': 'Jamaica', 'population': 2723246}, {'country': 'Japan', 'population': 126960000}, {'country': 'Jersey', 'population': 100800}, {'country': 'Jordan', 'population': 9531712}, {'country': 'Kazakhstan', 'population': 17753200}, {'country': 'Kenya', 'population': 47251000}, {'country': 'Kiribati', 'population': 113400}, {'country': 'Kuwait', 'population': 4183658}, {'country': 'Kyrgyzstan', 'population': 6047800}, {'country': \"Lao People's Democratic Republic\", 'population': 6492400}, {'country': 'Latvia', 'population': 1961600}, {'country': 'Lebanon', 'population': 5988000}, {'country': 'Lesotho', 'population': 1894194}, {'country': 'Liberia', 'population': 4615000}, {'country': 'Libya', 'population': 6385000}, {'country': 'Liechtenstein', 'population': 37623}, {'country': 'Lithuania', 'population': 2872294}, {'country': 'Luxembourg', 'population': 576200}, {'country': 'Macao', 'population': 649100}, {'country': 'Macedonia (the former Yugoslav Republic of)', 'population': 2058539}, {'country': 'Madagascar', 'population': 22434363}, {'country': 'Malawi', 'population': 16832910}, {'country': 'Malaysia', 'population': 31405416}, {'country': 'Maldives', 'population': 344023}, {'country': 'Mali', 'population': 18135000}, {'country': 'Malta', 'population': 425384}, {'country': 'Marshall Islands', 'population': 54880}, {'country': 'Martinique', 'population': 378243}, {'country': 'Mauritania', 'population': 3718678}, {'country': 'Mauritius', 'population': 1262879}, {'country': 'Mayotte', 'population': 226915}, {'country': 'Mexico', 'population': 122273473}, {'country': 'Micronesia (Federated States of)', 'population': 102800}, {'country': 'Moldova (Republic of)', 'population': 3553100}, {'country': 'Monaco', 'population': 38400}, {'country': 'Mongolia', 'population': 3093100}, {'country': 'Montenegro', 'population': 621810}, {'country': 'Montserrat', 'population': 4922}, {'country': 'Morocco', 'population': 33337529}, {'country': 'Mozambique', 'population': 26423700}, {'country': 'Myanmar', 'population': 51419420}, {'country': 'Namibia', 'population': 2324388}, {'country': 'Nauru', 'population': 10084}, {'country': 'Nepal', 'population': 28431500}, {'country': 'Netherlands', 'population': 17019800}, {'country': 'New Caledonia', 'population': 268767}, {'country': 'New Zealand', 'population': 4697854}, {'country': 'Nicaragua', 'population': 6262703}, {'country': 'Niger', 'population': 20715000}, {'country': 'Nigeria', 'population': 186988000}, {'country': 'Niue', 'population': 1470}, {'country': 'Norfolk Island', 'population': 2302}, {'country': \"Korea (Democratic People's Republic of)\", 'population': 25281000}, {'country': 'Northern Mariana Islands', 'population': 56940}, {'country': 'Norway', 'population': 5223256}, {'country': 'Oman', 'population': 4420133}, {'country': 'Pakistan', 'population': 194125062}, {'country': 'Palau', 'population': 17950}, {'country': 'Palestine, State of', 'population': 4682467}, {'country': 'Panama', 'population': 3814672}, {'country': 'Papua New Guinea', 'population': 8083700}, {'country': 'Paraguay', 'population': 6854536}, {'country': 'Peru', 'population': 31488700}, {'country': 'Philippines', 'population': 103279800}, {'country': 'Pitcairn', 'population': 56}, {'country': 'Poland', 'population': 38437239}, {'country': 'Portugal', 'population': 10374822}, {'country': 'Puerto Rico', 'population': 3474182}, {'country': 'Qatar', 'population': 2587564}, {'country': 'Republic of Kosovo', 'population': 1733842}, {'country': 'Réunion', 'population': 840974}, {'country': 'Romania', 'population': 19861408}, {'country': 'Russian Federation', 'population': 146599183}, {'country': 'Rwanda', 'population': 11553188}, {'country': 'Saint Barthélemy', 'population': 9417}, {'country': 'Saint Helena, Ascension and Tristan da Cunha', 'population': 4255}, {'country': 'Saint Kitts and Nevis', 'population': 46204}, {'country': 'Saint Lucia', 'population': 186000}, {'country': 'Saint Martin (French part)', 'population': 36979}, {'country': 'Saint Pierre and Miquelon', 'population': 6069}, {'country': 'Saint Vincent and the Grenadines', 'population': 109991}, {'country': 'Samoa', 'population': 194899}, {'country': 'San Marino', 'population': 33005}, {'country': 'Sao Tome and Principe', 'population': 187356}, {'country': 'Saudi Arabia', 'population': 32248200}, {'country': 'Senegal', 'population': 14799859}, {'country': 'Serbia', 'population': 7076372}, {'country': 'Seychelles', 'population': 91400}, {'country': 'Sierra Leone', 'population': 7075641}, {'country': 'Singapore', 'population': 5535000}, {'country': 'Sint Maarten (Dutch part)', 'population': 38247}, {'country': 'Slovakia', 'population': 5426252}, {'country': 'Slovenia', 'population': 2064188}, {'country': 'Solomon Islands', 'population': 642000}, {'country': 'Somalia', 'population': 11079000}, {'country': 'South Africa', 'population': 55653654}, {'country': 'South Georgia and the South Sandwich Islands', 'population': 30}, {'country': 'Korea (Republic of)', 'population': 50801405}, {'country': 'South Sudan', 'population': 12131000}, {'country': 'Spain', 'population': 46438422}, {'country': 'Sri Lanka', 'population': 20966000}, {'country': 'Sudan', 'population': 39598700}, {'country': 'Suriname', 'population': 541638}, {'country': 'Svalbard and Jan Mayen', 'population': 2562}, {'country': 'Swaziland', 'population': 1132657}, {'country': 'Sweden', 'population': 9894888}, {'country': 'Switzerland', 'population': 8341600}, {'country': 'Syrian Arab Republic', 'population': 18564000}, {'country': 'Taiwan', 'population': 23503349}, {'country': 'Tajikistan', 'population': 8593600}, {'country': 'Tanzania, United Republic of', 'population': 55155000}, {'country': 'Thailand', 'population': 65327652}, {'country': 'Timor-Leste', 'population': 1167242}, {'country': 'Togo', 'population': 7143000}, {'country': 'Tokelau', 'population': 1411}, {'country': 'Tonga', 'population': 103252}, {'country': 'Trinidad and Tobago', 'population': 1349667}, {'country': 'Tunisia', 'population': 11154400}, {'country': 'Turkey', 'population': 78741053}, {'country': 'Turkmenistan', 'population': 4751120}, {'country': 'Turks and Caicos Islands', 'population': 31458}, {'country': 'Tuvalu', 'population': 10640}, {'country': 'Uganda', 'population': 33860700}, {'country': 'Ukraine', 'population': 42692393}, {'country': 'United Arab Emirates', 'population': 9856000}, {'country': 'United Kingdom of Great Britain and Northern Ireland', 'population': 65110000}, {'country': 'United States of America', 'population': 323947000}, {'country': 'Uruguay', 'population': 3480222}, {'country': 'Uzbekistan', 'population': 31576400}, {'country': 'Vanuatu', 'population': 277500}, {'country': 'Venezuela (Bolivarian Republic of)', 'population': 31028700}, {'country': 'Viet Nam', 'population': 92700000}, {'country': 'Wallis and Futuna', 'population': 11750}, {'country': 'Western Sahara', 'population': 510713}, {'country': 'Yemen', 'population': 27478000}, {'country': 'Zambia', 'population': 15933883}, {'country': 'Zimbabwe', 'population': 14240168}]\n"
     ]
    }
   ],
   "source": [
    "print(most_populated_countries('countries_data.json'))"
   ]
  },
  {
   "cell_type": "code",
   "execution_count": null,
   "metadata": {},
   "outputs": [],
   "source": [
    "dict = {}\n",
    "\n"
   ]
  }
 ],
 "metadata": {
  "kernelspec": {
   "display_name": "base",
   "language": "python",
   "name": "python3"
  },
  "language_info": {
   "codemirror_mode": {
    "name": "ipython",
    "version": 3
   },
   "file_extension": ".py",
   "mimetype": "text/x-python",
   "name": "python",
   "nbconvert_exporter": "python",
   "pygments_lexer": "ipython3",
   "version": "3.12.3"
  }
 },
 "nbformat": 4,
 "nbformat_minor": 2
}
