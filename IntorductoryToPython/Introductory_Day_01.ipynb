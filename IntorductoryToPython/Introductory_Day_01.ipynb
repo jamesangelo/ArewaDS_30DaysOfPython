{
  "nbformat": 4,
  "nbformat_minor": 0,
  "metadata": {
    "colab": {
      "provenance": []
    },
    "kernelspec": {
      "name": "python3",
      "display_name": "Python 3"
    },
    "language_info": {
      "name": "python"
    }
  },
  "cells": [
    {
      "cell_type": "markdown",
      "source": [
        "## James Williams introductory excercise to Python programming"
      ],
      "metadata": {
        "id": "8a4_CYt_A7z9"
      }
    },
    {
      "cell_type": "code",
      "execution_count": 1,
      "metadata": {
        "id": "xjHgnnBPApAl",
        "colab": {
          "base_uri": "https://localhost:8080/"
        },
        "outputId": "d3ab0a6e-a70b-4e42-9dce-759dcc3ad21d"
      },
      "outputs": [
        {
          "output_type": "stream",
          "name": "stdout",
          "text": [
            "5\n",
            "1\n",
            "6\n",
            "1.5\n",
            "9\n",
            "1\n",
            "1\n",
            "<class 'int'>\n",
            "<class 'float'>\n",
            "<class 'complex'>\n",
            "<class 'str'>\n",
            "<class 'list'>\n",
            "<class 'dict'>\n",
            "<class 'set'>\n",
            "<class 'tuple'>\n",
            "<class 'bool'>\n",
            "<class 'bool'>\n"
          ]
        }
      ],
      "source": [
        "print(3 + 2)   # addition(+)\n",
        "\n",
        "print(3 - 2)   # subtraction(-)\n",
        "\n",
        "print(3 * 2)   # multiplication(*)\n",
        "\n",
        "print(3 / 2)   # division(/)\n",
        "\n",
        "print(3 ** 2)  # exponential(**)\n",
        "\n",
        "print(3 % 2)   # modulus(%)\n",
        "\n",
        "print(3 // 2)  # Floor division operator(//)\n",
        "\n",
        "\n",
        "# Checking data types\n",
        "\n",
        "print(type(10))                  # Int\n",
        "\n",
        "print(type(3.14))                # Float\n",
        "\n",
        "print(type(1 + 3j))              # Complex\n",
        "\n",
        "print(type('Asabeneh'))          # String\n",
        "\n",
        "print(type([1, 2, 3]))           # List\n",
        "\n",
        "print(type({'name':'Asabeneh'})) # Dictionary\n",
        "\n",
        "print(type({9.8, 3.14, 2.7}))    # Set\n",
        "\n",
        "print(type((9.8, 3.14, 2.7)))    # Tuple\n",
        "\n",
        "print(type(3 == 3))              # Bool\n",
        "\n",
        "print(type(3 >= 3))              # Bool"
      ]
    }
  ]
}