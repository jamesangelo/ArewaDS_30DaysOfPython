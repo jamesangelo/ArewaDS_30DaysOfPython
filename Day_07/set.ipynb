{
  "nbformat": 4,
  "nbformat_minor": 0,
  "metadata": {
    "colab": {
      "provenance": []
    },
    "kernelspec": {
      "name": "python3",
      "display_name": "Python 3"
    },
    "language_info": {
      "name": "python"
    }
  },
  "cells": [
    {
      "cell_type": "markdown",
      "source": [
        "# Sets Exercise Level 1"
      ],
      "metadata": {
        "id": "SEzeAXL1NakF"
      }
    },
    {
      "cell_type": "code",
      "execution_count": 29,
      "metadata": {
        "colab": {
          "base_uri": "https://localhost:8080/"
        },
        "id": "6WP2jdy1NV2b",
        "outputId": "11f20084-2a0a-4f5b-b831-1fc96c4a93b4"
      },
      "outputs": [
        {
          "output_type": "stream",
          "name": "stdout",
          "text": [
            "lenght of the set:  7\n",
            "{'Oracle', 'Amazon', 'Google', 'Facebook', 'Apple', 'Twitter', 'Microsoft', 'IBM'}\n",
            "{'X', 'Amazon', 'Google', 'Facebook', 'nvida', 'Apple', 'Twitter', 'Microsoft', 'Oracle', 'Yahoo', 'IBM'}\n"
          ]
        }
      ],
      "source": [
        "it_companies = {'Facebook', 'Google', 'Microsoft', 'Apple', 'IBM', 'Oracle', 'Amazon'}\n",
        "\n",
        "#1.\n",
        "print('lenght of the set: ', len(it_companies))\n",
        "\n",
        "#2.\n",
        "it_companies.add('Twitter')\n",
        "print(it_companies)\n",
        "\n",
        "#3.\n",
        "itcom = ('nvida', 'X', 'Yahoo')\n",
        "it_companies.update(itcom)\n",
        "print(it_companies)\n",
        "\n",
        "#4.\n",
        "it_companies.remove('Apple')\n",
        "\n",
        "#5.\n",
        "#remove method can only function when the item to remove is in the set of items\n",
        "#howeveer, discard will not give a trace back error even if the item is not in the set\n"
      ]
    },
    {
      "cell_type": "markdown",
      "source": [
        "# Sets Exercises: Level 2"
      ],
      "metadata": {
        "id": "yu4oE51VJCbC"
      }
    },
    {
      "cell_type": "code",
      "source": [
        "A = {19, 22, 24, 20, 25, 26}\n",
        "B = {19, 22, 20, 25, 26, 24, 28, 27}\n",
        "\n",
        "#1.\n",
        "A.union(B)\n",
        "print(A)\n",
        "\n"
      ],
      "metadata": {
        "colab": {
          "base_uri": "https://localhost:8080/"
        },
        "id": "Fcg65GxhTqHv",
        "outputId": "e59fe76d-063a-420c-dff9-b58321935059"
      },
      "execution_count": 31,
      "outputs": [
        {
          "output_type": "stream",
          "name": "stdout",
          "text": [
            "{19, 20, 22, 24, 25, 26}\n"
          ]
        }
      ]
    },
    {
      "cell_type": "code",
      "source": [
        "A = {19, 22, 24, 20, 25, 26}\n",
        "B = {19, 22, 20, 25, 26, 24, 28, 27}\n",
        "\n",
        "#2.\n",
        "print(A.intersection(B))"
      ],
      "metadata": {
        "colab": {
          "base_uri": "https://localhost:8080/"
        },
        "id": "wUJZwBfB7Mab",
        "outputId": "11e16dca-278b-49d4-a868-4fd3af4ab160"
      },
      "execution_count": 6,
      "outputs": [
        {
          "output_type": "stream",
          "name": "stdout",
          "text": [
            "{19, 20, 22, 24, 25, 26}\n"
          ]
        }
      ]
    },
    {
      "cell_type": "code",
      "source": [
        "it_companies = {'Facebook', 'Google', 'Microsoft', 'Apple', 'IBM', 'Oracle', 'Amazon'}\n",
        "A = {19, 22, 24, 20, 25, 26}\n",
        "B = {19, 22, 20, 25, 26, 24, 28, 27}\n",
        "age = [22, 19, 24, 25, 26, 24, 25, 24]\n",
        "\n",
        "#3.\n",
        "\n",
        "print('Is A subset of B:', A.issubset(B))\n",
        "\n",
        "#4.\n",
        "print('Is A and B disjoint: ', A.isdisjoint(B))\n",
        "\n",
        "#5.\n",
        "A.join(B)\n",
        "B.join(A)\n"
      ],
      "metadata": {
        "colab": {
          "base_uri": "https://localhost:8080/"
        },
        "id": "WQN8_pUX7i9V",
        "outputId": "c4adf3a1-60fa-4970-e826-1624e109aca2"
      },
      "execution_count": 9,
      "outputs": [
        {
          "output_type": "stream",
          "name": "stdout",
          "text": [
            "Is A subset of B: True\n",
            "Is A and B disjoint:  False\n"
          ]
        }
      ]
    },
    {
      "cell_type": "code",
      "source": [
        "A = {19, 22, 24, 20, 25, 26}\n",
        "B = {19, 22, 20, 25, 26, 24, 28, 27}\n",
        "\n",
        "#6.\n",
        "print(A.symmetric_difference(B))"
      ],
      "metadata": {
        "colab": {
          "base_uri": "https://localhost:8080/"
        },
        "id": "BuVwKExI8zBR",
        "outputId": "a3ed6b60-a33e-4d5e-ef5d-0858c6f0b47c"
      },
      "execution_count": 14,
      "outputs": [
        {
          "output_type": "stream",
          "name": "stdout",
          "text": [
            "{15.4, 27, 28}\n"
          ]
        }
      ]
    },
    {
      "cell_type": "code",
      "source": [
        "A = {19, 22, 24, 20, 25, 26}\n",
        "B = {19, 22, 20, 25, 26, 24, 28, 27}\n",
        "\n",
        "del A\n",
        "del B\n"
      ],
      "metadata": {
        "id": "cSQxhkgK-Y5l"
      },
      "execution_count": 16,
      "outputs": []
    },
    {
      "cell_type": "code",
      "source": [
        "it_companies = {'Facebook', 'Google', 'Microsoft', 'Apple', 'IBM', 'Oracle', 'Amazon'}\n",
        "A = {19, 22, 24, 20, 25, 26}\n",
        "B = {19, 22, 20, 25, 26, 24, 28, 27}\n",
        "age = [22, 19, 24, 25, 26, 24, 25, 24]\n",
        "\n",
        "\n",
        "ages = set(age)\n",
        "print(type(ages))\n",
        "print('lenght of list > Set ? ', len(age) > len(ages))\n",
        "print('lenght of list == Set ? ', len(age) == len(ages))\n",
        "print('lenght of list < Set ? ', len(age) < len(ages))\n",
        "\n"
      ],
      "metadata": {
        "colab": {
          "base_uri": "https://localhost:8080/"
        },
        "id": "ORuslTIg-r-l",
        "outputId": "66b147e5-03a0-449d-d43c-7352064d7423"
      },
      "execution_count": 21,
      "outputs": [
        {
          "output_type": "stream",
          "name": "stdout",
          "text": [
            "<class 'set'>\n",
            "lenght of list > Set ?  True\n",
            "lenght of list == Set ?  False\n",
            "lenght of list < Set ?  False\n"
          ]
        }
      ]
    },
    {
      "cell_type": "markdown",
      "source": [
        "# Sets Exercises: Level 3\n",
        "# the difference between the different data types are shown below:\n",
        "\n",
        "|String|List|Tuple|Set|\n",
        "-------|----|-----|---|\n",
        "|data is wrapped in ' ' or \" \"| data is wraped in square brackets with ',' separation| data is wrapped in brackets with ',' separation| data is wrapped in curly brackets|\n",
        "\n",
        "\n"
      ],
      "metadata": {
        "id": "UoTKl34GAu56"
      }
    },
    {
      "cell_type": "code",
      "source": [
        "#3.\n",
        "strin = 'I am a teacher and I love to inspire and teach people'\n",
        "words = set(strin.split())\n",
        "print(words)\n",
        "print('There are ', len(words), ' unique words')\n"
      ],
      "metadata": {
        "colab": {
          "base_uri": "https://localhost:8080/"
        },
        "id": "sY9p0IUSCeVV",
        "outputId": "bd7dcf2a-ec6f-40b3-9cf3-7e7992964902"
      },
      "execution_count": 28,
      "outputs": [
        {
          "output_type": "stream",
          "name": "stdout",
          "text": [
            "{'a', 'am', 'inspire', 'love', 'teacher', 'teach', 'people', 'I', 'to', 'and'}\n",
            "There are  10  unique words\n"
          ]
        }
      ]
    }
  ]
}