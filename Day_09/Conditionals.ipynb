{
 "cells": [
  {
   "cell_type": "markdown",
   "metadata": {},
   "source": [
    "# Exercise: Level 1"
   ]
  },
  {
   "cell_type": "code",
   "execution_count": null,
   "metadata": {},
   "outputs": [
    {
     "name": "stdout",
     "output_type": "stream",
     "text": [
      "You are to wait 6 years to be able to drive\n",
      "He is 10 older than I am\n"
     ]
    }
   ],
   "source": [
    "#1.\n",
    "age = int(input('Enter your age'))\n",
    "if age >= 18:\n",
    "    print('You are old enough to drive')\n",
    "else:\n",
    "    adult = 18 - age\n",
    "    print(f'You are to wait {adult} years to be able to drive')\n",
    "\n"
   ]
  },
  {
   "cell_type": "code",
   "execution_count": null,
   "metadata": {},
   "outputs": [],
   "source": [
    "\n",
    "#2.\n",
    "my_age = int(input('Enter your age'))\n",
    "your_age =int(input('Enter his age'))\n",
    "\n",
    "if  my_age == your_age:\n",
    "    print('We are of the same age')\n",
    "elif my_age > your_age:\n",
    "    diff = my_age -your_age\n",
    "    if diff== 1:\n",
    "        print('I am a year older than you are')\n",
    "    else:\n",
    "        print(f'I am {diff} years older than you are')\n",
    "elif my_age < your_age:\n",
    "    diff = your_age - my_age\n",
    "    if diff == 1:\n",
    "        print('He is a year older than I am')\n",
    "    else:\n",
    "        print(f'He is {diff} years older than I am')\n"
   ]
  },
  {
   "cell_type": "code",
   "execution_count": 5,
   "metadata": {},
   "outputs": [
    {
     "name": "stdout",
     "output_type": "stream",
     "text": [
      "a is equal to b\n"
     ]
    }
   ],
   "source": [
    "#3.\n",
    "\n",
    "a = int(input('Enter a'))\n",
    "b = int(input('Enter b'))\n",
    "if a>b :\n",
    "    print(f'{a} is greater than {b}')\n",
    "elif a<b :\n",
    "    print(f'{a} is less than {b}')\n",
    "else:\n",
    "    print('a is equal to b')"
   ]
  },
  {
   "cell_type": "markdown",
   "metadata": {},
   "source": [
    "# Exercise Level 2"
   ]
  },
  {
   "cell_type": "code",
   "execution_count": 9,
   "metadata": {},
   "outputs": [
    {
     "name": "stdout",
     "output_type": "stream",
     "text": [
      "Grade not Valid\n"
     ]
    }
   ],
   "source": [
    "\n",
    "your_score = int(input('Enter your score'))\n",
    "if your_score >= 80 and your_score < 101 :\n",
    "    print('You got an A grade')\n",
    "elif (your_score >= 70) and (your_score <= 89) :\n",
    "    print('You got a B grade')\n",
    "elif (your_score >=60) and (your_score <= 69):\n",
    "    print('You got a C grade')\n",
    "elif(your_score>=50) and (your_score\t<=59):\n",
    "    print('You gor a D grade')\n",
    "elif your_score < 50:\n",
    "    print('Your got an F grade')\n",
    "else:\n",
    "    print('Grade not Valid')\n"
   ]
  },
  {
   "cell_type": "code",
   "execution_count": 13,
   "metadata": {},
   "outputs": [
    {
     "name": "stdout",
     "output_type": "stream",
     "text": [
      "The season is Spring\n"
     ]
    }
   ],
   "source": [
    "Autumn = ['September', 'October', 'November']\n",
    "Winter = ['December', 'January', 'February']\n",
    "Spring = ['March', 'April', 'May']\n",
    "Summer = ['June', 'July', 'August']\n",
    "Months = Autumn + Winter + Spring + Summer\n",
    "month = input('Enter Month: ')\n",
    "if month in Months:\n",
    "    if month in Months[:3]:\n",
    "        print('The season is Autumn')\n",
    "    elif month in Months[3:7]:\n",
    "        print('The season is Winter')\n",
    "    elif month in Months[7:10]:\n",
    "        print('The season is Spring')\n",
    "    else:\n",
    "        print('The season is Summer')\n",
    "else:\n",
    "    print('Enter month with first letter capitalized or upper case')\n",
    "\n"
   ]
  },
  {
   "cell_type": "code",
   "execution_count": 15,
   "metadata": {},
   "outputs": [
    {
     "name": "stdout",
     "output_type": "stream",
     "text": [
      "the fruit already exist in the list banana\n"
     ]
    }
   ],
   "source": [
    "fruits = ['banana', 'orange', 'mango', 'lemon']\n",
    "frt = input('Enter fruit:')\n",
    "if frt in fruits:\n",
    "    print('the fruit already exist in the list', frt)\n",
    "else:\n",
    "    fruits.append(frt)\n",
    "    print('the fruit is added to this list fruits', fruits)\n"
   ]
  },
  {
   "cell_type": "markdown",
   "metadata": {},
   "source": [
    "# Exercie Level 3"
   ]
  },
  {
   "cell_type": "code",
   "execution_count": 62,
   "metadata": {},
   "outputs": [
    {
     "name": "stdout",
     "output_type": "stream",
     "text": [
      "MongoDB\n",
      "Is Python in the person's skills :  True\n",
      "The person has the following skills {'Python', 'React', 'MongoDB', 'JavaScript'}\n"
     ]
    }
   ],
   "source": [
    "person = {\n",
    "    'first_name': 'Asabeneh',\n",
    "    'last_name': 'Yetayeh',\n",
    "    'age': 250,\n",
    "    'country': 'Finland',\n",
    "    'is_marred': True,\n",
    "    'skills': ['JavaScript', 'React', 'MongoDB', 'Python', 'Java', 'C++'],\n",
    "    'address': {\n",
    "        'street': 'Space street',\n",
    "        'zipcode': '02210'\n",
    "    }\n",
    "    }\n",
    "# \n",
    "print(person.get('skills')[2])\n",
    "\n",
    "#\n",
    "print('Is Python in the person\\'s skills : ', 'Python' in person.get('skills'))\n",
    "\n",
    "#\n",
    "frontEnd = {'JavaScript', 'React'}\n",
    "backEnd = {'Node', 'Python', 'MongoDB'}\n",
    "fullStack = frontEnd.union(backEnd)\n",
    "\n",
    "if  set(person['skills']) == fullStack :\n",
    "    print('The person is a fullStack developer')\n",
    "elif set(person['skills']) == frontEnd : \n",
    "    print('The person is a front end developer')\n",
    "elif set(person['skills']) == backEnd :\n",
    "    print('The person is a back end developer')\n",
    "elif set(person['skills']).isdisjoint(fullStack) == False  :\n",
    "    print('The person has the following skills', set(person['skills']).intersection(fullStack))\n",
    "else:\n",
    "    print('The person is not a developer')\n",
    "\n"
   ]
  },
  {
   "cell_type": "code",
   "execution_count": null,
   "metadata": {},
   "outputs": [
    {
     "name": "stdout",
     "output_type": "stream",
     "text": [
      "The person is married True and He lives in Finland\n"
     ]
    }
   ],
   "source": [
    "if person['is_marred'] and person['country']:\n",
    "    print(f'The person is married {person['is_marred']} and He lives in {person['country']}')\n",
    "else:\n",
    "    print('Can\\'t say much about the persson')\n"
   ]
  }
 ],
 "metadata": {
  "kernelspec": {
   "display_name": "Python 3",
   "language": "python",
   "name": "python3"
  },
  "language_info": {
   "codemirror_mode": {
    "name": "ipython",
    "version": 3
   },
   "file_extension": ".py",
   "mimetype": "text/x-python",
   "name": "python",
   "nbconvert_exporter": "python",
   "pygments_lexer": "ipython3",
   "version": "3.13.0"
  }
 },
 "nbformat": 4,
 "nbformat_minor": 2
}
